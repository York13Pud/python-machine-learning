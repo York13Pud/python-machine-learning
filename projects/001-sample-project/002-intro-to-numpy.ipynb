{
 "cells": [
  {
   "cell_type": "markdown",
   "metadata": {},
   "source": [
    "# Introduction to NumPy"
   ]
  },
  {
   "cell_type": "markdown",
   "metadata": {},
   "source": [
    "## What is NumPy?"
   ]
  },
  {
   "cell_type": "markdown",
   "metadata": {},
   "source": [
    "NumPy is the fundamental package for scientific computing in Python. It is a Python library that provides a multidimensional array object, various derived objects (such as masked arrays and matrices), and an assortment of routines for fast operations on arrays, including mathematical, logical, shape manipulation, sorting, selecting, I/O, discrete Fourier transforms, basic linear algebra, basic statistical operations, random simulation and much more."
   ]
  },
  {
   "cell_type": "markdown",
   "metadata": {},
   "source": [
    "## Why NumPy?"
   ]
  },
  {
   "cell_type": "markdown",
   "metadata": {},
   "source": [
    "Put simply, it's fast at performing numeric functions. This is due to is being written in C.\n",
    "\n",
    "To speed up calculations, NumPy uses vectorisation via broadcasting. In English, it avoids using loops as that can slow down processing time, especially with large datasets.\n",
    "\n",
    "Finally, NumPy is also the backbone for other Python scientific packages. "
   ]
  },
  {
   "cell_type": "markdown",
   "metadata": {},
   "source": [
    "## NumPy DataTypes and Attributes"
   ]
  },
  {
   "cell_type": "markdown",
   "metadata": {},
   "source": [
    "![\"NumPy Array Types\"](../../assets/images/notes/016-numpy-array.png)"
   ]
  },
  {
   "cell_type": "code",
   "execution_count": 76,
   "metadata": {},
   "outputs": [],
   "source": [
    "# --- Import NumPy amd pandas (needed for later on)\n",
    "import numpy as np\n",
    "import pandas as pd\n",
    "from matplotlib.image import imread"
   ]
  },
  {
   "cell_type": "code",
   "execution_count": 2,
   "metadata": {},
   "outputs": [
    {
     "data": {
      "text/plain": [
       "array([1, 2, 3])"
      ]
     },
     "execution_count": 2,
     "metadata": {},
     "output_type": "execute_result"
    }
   ],
   "source": [
    "# --- NumPy uses ndarray (n-dimensional array) for its main datatype.\n",
    "# --- Create a simple one-dimensional array, also called a vector.\n",
    "# --- Note: This has a shape of 1,3 (one row, three columns):\n",
    "sample_array_1 = np.array([1,2,3])\n",
    "sample_array_1"
   ]
  },
  {
   "cell_type": "code",
   "execution_count": 3,
   "metadata": {},
   "outputs": [
    {
     "data": {
      "text/plain": [
       "array([[1. , 2. , 3.3],\n",
       "       [4. , 5. , 6.5]])"
      ]
     },
     "execution_count": 3,
     "metadata": {},
     "output_type": "execute_result"
    }
   ],
   "source": [
    "# --- Create a two-dimensional array.\n",
    "# --- Note 1: This has a shape of 2,3 (two rows, three columns).\n",
    "# --- Note 2: As there is a float in the array, all the numbers will be converted to float:\n",
    "sample_array_2 = np.array([[1, 2.0, 3.3],\n",
    "                           [4, 5, 6.5]])\n",
    "sample_array_2"
   ]
  },
  {
   "cell_type": "code",
   "execution_count": 4,
   "metadata": {},
   "outputs": [
    {
     "data": {
      "text/plain": [
       "array([[[ 1,  2,  3],\n",
       "        [ 4,  5,  6],\n",
       "        [ 7,  8,  9]],\n",
       "\n",
       "       [[10, 11, 12],\n",
       "        [13, 14, 15],\n",
       "        [16, 17, 18]]])"
      ]
     },
     "execution_count": 4,
     "metadata": {},
     "output_type": "execute_result"
    }
   ],
   "source": [
    "# --- Create a multi-dimensional array.\n",
    "# --- Note: This has a shape of 2, 3,  (two matrix's deep, three rows and three columns per matrix):\n",
    "sample_array_3 = np.array([[[1, 2, 3],\n",
    "                           [4, 5, 6],\n",
    "                           [7, 8, 9]],\n",
    "                          [[10, 11, 12],\n",
    "                           [13, 14, 15],\n",
    "                           [16, 17, 18]]])\n",
    "sample_array_3"
   ]
  },
  {
   "cell_type": "code",
   "execution_count": 5,
   "metadata": {},
   "outputs": [
    {
     "name": "stdout",
     "output_type": "stream",
     "text": [
      "sample array 1. shape: (3,), size: 3\n",
      "sample array 2. shape: (2, 3), size: 6\n",
      "sample array 3. shape: (2, 3, 3), size: 18\n"
     ]
    }
   ],
   "source": [
    "# --- Show the shape and size of each sample array:\n",
    "print(f\"sample array 1. shape: {sample_array_1.shape}, size: {sample_array_1.size}\")\n",
    "print(f\"sample array 2. shape: {sample_array_2.shape}, size: {sample_array_2.size}\")\n",
    "print(f\"sample array 3. shape: {sample_array_3.shape}, size: {sample_array_3.size}\")"
   ]
  },
  {
   "cell_type": "code",
   "execution_count": 6,
   "metadata": {},
   "outputs": [
    {
     "data": {
      "text/plain": [
       "(1, 2, 3)"
      ]
     },
     "execution_count": 6,
     "metadata": {},
     "output_type": "execute_result"
    }
   ],
   "source": [
    "# --- Show the number of dimensions for each sample array:\n",
    "sample_array_1.ndim, sample_array_2.ndim, sample_array_3.ndim"
   ]
  },
  {
   "cell_type": "code",
   "execution_count": 7,
   "metadata": {},
   "outputs": [
    {
     "data": {
      "text/html": [
       "<div>\n",
       "<style scoped>\n",
       "    .dataframe tbody tr th:only-of-type {\n",
       "        vertical-align: middle;\n",
       "    }\n",
       "\n",
       "    .dataframe tbody tr th {\n",
       "        vertical-align: top;\n",
       "    }\n",
       "\n",
       "    .dataframe thead th {\n",
       "        text-align: right;\n",
       "    }\n",
       "</style>\n",
       "<table border=\"1\" class=\"dataframe\">\n",
       "  <thead>\n",
       "    <tr style=\"text-align: right;\">\n",
       "      <th></th>\n",
       "      <th>0</th>\n",
       "      <th>1</th>\n",
       "      <th>2</th>\n",
       "    </tr>\n",
       "  </thead>\n",
       "  <tbody>\n",
       "    <tr>\n",
       "      <th>0</th>\n",
       "      <td>1.0</td>\n",
       "      <td>2.0</td>\n",
       "      <td>3.3</td>\n",
       "    </tr>\n",
       "    <tr>\n",
       "      <th>1</th>\n",
       "      <td>4.0</td>\n",
       "      <td>5.0</td>\n",
       "      <td>6.5</td>\n",
       "    </tr>\n",
       "  </tbody>\n",
       "</table>\n",
       "</div>"
      ],
      "text/plain": [
       "     0    1    2\n",
       "0  1.0  2.0  3.3\n",
       "1  4.0  5.0  6.5"
      ]
     },
     "execution_count": 7,
     "metadata": {},
     "output_type": "execute_result"
    }
   ],
   "source": [
    "# --- Create a pandas dataframe from an ndarray:\n",
    "sample_df_2 = pd.DataFrame(sample_array_2)\n",
    "sample_df_2\n"
   ]
  },
  {
   "cell_type": "markdown",
   "metadata": {},
   "source": [
    "## Creating NumPy Arrays"
   ]
  },
  {
   "cell_type": "code",
   "execution_count": 8,
   "metadata": {},
   "outputs": [
    {
     "data": {
      "text/plain": [
       "array([[1., 1., 1.]])"
      ]
     },
     "execution_count": 8,
     "metadata": {},
     "output_type": "execute_result"
    }
   ],
   "source": [
    "# --- Create a 2 x 3 ndarray with values of 1 using the ones function.\n",
    "# --- Note: The default datatype for each 1 is float64 so they will be 1. instead.\n",
    "# --- You can change that with dtype = int:\n",
    "ones = np.ones(shape=(1, 3))\n",
    "ones"
   ]
  },
  {
   "cell_type": "code",
   "execution_count": 9,
   "metadata": {},
   "outputs": [
    {
     "data": {
      "text/plain": [
       "array([[0., 0., 0.],\n",
       "       [0., 0., 0.]])"
      ]
     },
     "execution_count": 9,
     "metadata": {},
     "output_type": "execute_result"
    }
   ],
   "source": [
    "# --- Create a 2 x 3 ndarray with values of 1 using the zeros function.\n",
    "# --- Note: The default datatype for each 0 is float64 so they will be 0. instead.\n",
    "# --- You can change that with dtype = int:\n",
    "zeros = np.zeros(shape=(2, 3))\n",
    "zeros"
   ]
  },
  {
   "cell_type": "code",
   "execution_count": 10,
   "metadata": {},
   "outputs": [
    {
     "data": {
      "text/plain": [
       "array([0, 2, 4, 6, 8])"
      ]
     },
     "execution_count": 10,
     "metadata": {},
     "output_type": "execute_result"
    }
   ],
   "source": [
    "# --- Create an ndarray with a range starting at 0, upto 10 and increment in 2:\n",
    "range_array = np.arange(0, 10, 2)\n",
    "range_array"
   ]
  },
  {
   "cell_type": "code",
   "execution_count": 11,
   "metadata": {},
   "outputs": [
    {
     "name": "stdout",
     "output_type": "stream",
     "text": [
      "[[36 65 66 71 57]\n",
      " [49 79 66 27 31]\n",
      " [92 14 75 29 52]]\n",
      "\n",
      "random_array size: 15\n",
      "random_array shape: (3, 5)\n"
     ]
    }
   ],
   "source": [
    "# --- Create an ndarray with 3 rows and five random integers per row:\n",
    "random_array = np.random.randint(low = 0, high = 100, size = (3, 5))\n",
    "print(random_array)\n",
    "print(f\"\\nrandom_array size: {random_array.size}\\nrandom_array shape: {random_array.shape}\")\n"
   ]
  },
  {
   "cell_type": "markdown",
   "metadata": {},
   "source": [
    "Note: NumPy random numbers are Pseudo-random numbers. In short, it's random to us but not to a computer.\n",
    "\n",
    "You can set the random number generators in NumPy to have a base starting point so that they start at the same point using the `np.random.seed()` function.\n",
    "\n",
    "By default, the random.seed() is set to None. This will mean that each time a random number generator function is called, the seed will have a random value that will then generate a random number.\n",
    "\n",
    "If you set a value in the seed function, each time a random number generator is run, it will generate the same numbers as before as the starting point will always be the same:"
   ]
  },
  {
   "cell_type": "code",
   "execution_count": 12,
   "metadata": {},
   "outputs": [
    {
     "name": "stdout",
     "output_type": "stream",
     "text": [
      "None\n"
     ]
    }
   ],
   "source": [
    "print(np.random.seed())"
   ]
  },
  {
   "cell_type": "code",
   "execution_count": 13,
   "metadata": {},
   "outputs": [
    {
     "name": "stdout",
     "output_type": "stream",
     "text": [
      "random_array_seed_1\n",
      "[[5 2 2 5 6]\n",
      " [4 1 4 5 0]\n",
      " [0 6 8 4 9]]\n",
      "\n",
      "random_array_seed_2\n",
      "[[5 8 9 5 0]\n",
      " [0 1 7 6 9]\n",
      " [2 4 5 2 4]]\n"
     ]
    }
   ],
   "source": [
    "# --- Set the seed value to None and generate a random array of ints.\n",
    "np.random.seed(seed=None)\n",
    "random_array_seed_1 = np.random.randint(0, 10, size=(3, 5))\n",
    "print(f\"random_array_seed_1\\n{random_array_seed_1}\")\n",
    "\n",
    "# --- Set the seed value to 1 and generate an array wind random ints:\n",
    "np.random.seed(seed=1)\n",
    "random_array_seed_2 = np.random.randint(0, 10, size=(3, 5))\n",
    "print(f\"\\nrandom_array_seed_2\\n{random_array_seed_2}\")\n",
    "\n",
    "# --- The result should be this each time:\n",
    "# [[5 8 9 5 0]\n",
    "# [0 1 7 6 9]\n",
    "# [2 4 5 2 4]]\n",
    "\n",
    "# --- Note: random.seed() only applies to the cell in Jupyter notebooks that it was run in."
   ]
  },
  {
   "cell_type": "markdown",
   "metadata": {},
   "source": [
    "## Viewing Arrays and Matrices"
   ]
  },
  {
   "cell_type": "markdown",
   "metadata": {},
   "source": []
  },
  {
   "cell_type": "code",
   "execution_count": 14,
   "metadata": {},
   "outputs": [
    {
     "data": {
      "text/plain": [
       "array([0, 1, 2, 4, 5, 6, 7, 8, 9])"
      ]
     },
     "execution_count": 14,
     "metadata": {},
     "output_type": "execute_result"
    }
   ],
   "source": [
    "# --- Show the unique numbers in an ndarray:\n",
    "np.unique(random_array_seed_2)"
   ]
  },
  {
   "cell_type": "code",
   "execution_count": 15,
   "metadata": {},
   "outputs": [
    {
     "data": {
      "text/plain": [
       "1"
      ]
     },
     "execution_count": 15,
     "metadata": {},
     "output_type": "execute_result"
    }
   ],
   "source": [
    "# --- Show the first item in a 1-D list:\n",
    "sample_array_1[0]"
   ]
  },
  {
   "cell_type": "code",
   "execution_count": 16,
   "metadata": {},
   "outputs": [
    {
     "data": {
      "text/plain": [
       "1.0"
      ]
     },
     "execution_count": 16,
     "metadata": {},
     "output_type": "execute_result"
    }
   ],
   "source": [
    "# --- Show the first item of the first row in a 2-D matrix:\n",
    "sample_array_2[0,0]"
   ]
  },
  {
   "cell_type": "code",
   "execution_count": 17,
   "metadata": {},
   "outputs": [
    {
     "data": {
      "text/plain": [
       "1"
      ]
     },
     "execution_count": 17,
     "metadata": {},
     "output_type": "execute_result"
    }
   ],
   "source": [
    "# --- Show the first item of the first row in a 3-D matrix:\n",
    "# --- 0, 0, 0 = z (depth) x (row) y (column)\n",
    "sample_array_3[0,0,0]"
   ]
  },
  {
   "cell_type": "code",
   "execution_count": 18,
   "metadata": {},
   "outputs": [
    {
     "data": {
      "text/plain": [
       "array([[[ 1,  2],\n",
       "        [ 4,  5],\n",
       "        [ 7,  8]],\n",
       "\n",
       "       [[10, 11],\n",
       "        [13, 14],\n",
       "        [16, 17]]])"
      ]
     },
     "execution_count": 18,
     "metadata": {},
     "output_type": "execute_result"
    }
   ],
   "source": [
    "# --- Using the the first two matrices (:2), from the first three rows (:3) of each of the \n",
    "# --- two matrices, get the first two numbers (:2).\n",
    "# --- This is using Python splits(:):\n",
    "sample_array_3[:2, :3, :2]"
   ]
  },
  {
   "cell_type": "markdown",
   "metadata": {},
   "source": [
    "## Manipulating Arrays"
   ]
  },
  {
   "cell_type": "markdown",
   "metadata": {},
   "source": [
    "### Arithmatic"
   ]
  },
  {
   "cell_type": "code",
   "execution_count": 19,
   "metadata": {},
   "outputs": [
    {
     "name": "stdout",
     "output_type": "stream",
     "text": [
      "Ones Array:     [[1. 1. 1.]]\n",
      "Sample Array 1: [1 2 3]\n",
      "\n",
      "Sample Array 2:\n",
      "[[1.  2.  3.3]\n",
      " [4.  5.  6.5]]\n",
      "\n",
      "Sample Array 3:\n",
      "[[[ 1  2  3]\n",
      "  [ 4  5  6]\n",
      "  [ 7  8  9]]\n",
      "\n",
      " [[10 11 12]\n",
      "  [13 14 15]\n",
      "  [16 17 18]]]\n"
     ]
    }
   ],
   "source": [
    "# --- View the arrays we will work with\n",
    "print(f\"Ones Array:     {ones}\")\n",
    "print(f\"Sample Array 1: {sample_array_1}\\n\")\n",
    "print(f\"Sample Array 2:\\n{sample_array_2}\\n\")\n",
    "print(f\"Sample Array 3:\\n{sample_array_3}\")\n"
   ]
  },
  {
   "cell_type": "code",
   "execution_count": 20,
   "metadata": {},
   "outputs": [
    {
     "name": "stdout",
     "output_type": "stream",
     "text": [
      "Addition:    [[2. 3. 4.]]\n",
      "Subtraction: [[0. 1. 2.]]\n",
      "Multiplied:  [[1. 2. 3.]]\n",
      "Squared By:  [1 4 9]\n",
      "Divided By:  [[1. 2. 3.]]\n"
     ]
    }
   ],
   "source": [
    "# --- Perform some basic maths on with two 1-D arrays:\n",
    "print(f\"Addition:    {sample_array_1 + ones}\")\n",
    "print(f\"Subtraction: {sample_array_1 - ones}\")\n",
    "print(f\"Multiplied:  {sample_array_1 * ones}\")\n",
    "print(f\"Squared By:  {sample_array_1 ** 2}\")\n",
    "print(f\"Divided By:  {sample_array_1 / ones}\")"
   ]
  },
  {
   "cell_type": "code",
   "execution_count": 21,
   "metadata": {},
   "outputs": [
    {
     "name": "stdout",
     "output_type": "stream",
     "text": [
      "Addition:    [[2.  3.  4.3]\n",
      " [5.  6.  7.5]]\n",
      "Subtraction: [[0.  1.  2.3]\n",
      " [3.  4.  5.5]]\n",
      "Multiplied:  [[1.  2.  3.3]\n",
      " [4.  5.  6.5]]\n",
      "Squared By:  [[ 1.    4.   10.89]\n",
      " [16.   25.   42.25]]\n",
      "Divided By:  [[1.  2.  3.3]\n",
      " [4.  5.  6.5]]\n"
     ]
    }
   ],
   "source": [
    "# --- Perform some basic maths on with one 1-D array and a 2-D array.\n",
    "# --- To mix things up, use the built-in numpy functions for arithmetic this time.\n",
    "# --- What will happen is that all of the rows in sample_array_2 will be acted on by the values\n",
    "# --- in ones where each column position is matched. This is called shape broadcasting:\n",
    "print(f\"Addition:    {np.add(sample_array_2, ones)}\")\n",
    "print(f\"Subtraction: {np.subtract(sample_array_2, ones)}\")\n",
    "print(f\"Multiplied:  {np.multiply(sample_array_2, ones)}\")\n",
    "print(f\"Squared By:  {np.square(sample_array_2)}\")\n",
    "print(f\"Divided By:  {np.divide(sample_array_2, ones)}\")"
   ]
  },
  {
   "cell_type": "code",
   "execution_count": 22,
   "metadata": {},
   "outputs": [],
   "source": [
    "# --- Try adding a 2-D array to a 3-D array:\n",
    "# --- This will not work due to their sizes being different on the z-axis.\n",
    "# --- This breaks broadcasting rules. This fix is to have the shapes match.\n",
    "# print(f\"Addition:    {sample_array_3 + sample_array_2}\")"
   ]
  },
  {
   "cell_type": "code",
   "execution_count": 23,
   "metadata": {},
   "outputs": [
    {
     "name": "stdout",
     "output_type": "stream",
     "text": [
      "Addition:\n",
      "[[[ 2.   4.   6.3]\n",
      "  [ 5.   7.   9.3]\n",
      "  [ 8.  10.  12.3]]\n",
      "\n",
      " [[14.  16.  18.5]\n",
      "  [17.  19.  21.5]\n",
      "  [20.  22.  24.5]]]\n"
     ]
    }
   ],
   "source": [
    "# --- To get the array shapes to match, you can either recreate one to match the other\n",
    "# --- or use the reshape function. For example, reshape sample_array_2 as a new array:\n",
    "sample_array_4 = sample_array_2.reshape(2,1,3)\n",
    "\n",
    "# --- Let's try adding array 4 to array 3:\n",
    "print(f\"Addition:\\n{sample_array_3 + sample_array_4}\")\n"
   ]
  },
  {
   "cell_type": "markdown",
   "metadata": {},
   "source": [
    "### Aggregation"
   ]
  },
  {
   "cell_type": "markdown",
   "metadata": {},
   "source": [
    "Aggregation is grouping items up and performing the same operation on each item in the group."
   ]
  },
  {
   "cell_type": "code",
   "execution_count": 24,
   "metadata": {},
   "outputs": [
    {
     "name": "stdout",
     "output_type": "stream",
     "text": [
      "6\n",
      "6\n"
     ]
    }
   ],
   "source": [
    "# --- Sum the values of sample_array_1 with NumPy\n",
    "print(sum(sample_array_1))\n",
    "print(np.sum(sample_array_1))"
   ]
  },
  {
   "cell_type": "markdown",
   "metadata": {},
   "source": [
    "Whilst you can use sum() on NumPy ndarrays, it is recommended to do the following:\n",
    "- For python datatypes (dicts, lists, sets and tuples), use python methods (`sum()`).\n",
    "- For NumPy datatypes (ndarrays), use NumPy methods (`np.sum()`)."
   ]
  },
  {
   "cell_type": "code",
   "execution_count": 25,
   "metadata": {},
   "outputs": [
    {
     "data": {
      "text/plain": [
       "array([12, 29, 30, 15, 51, 69, 88, 88, 95, 97])"
      ]
     },
     "execution_count": 25,
     "metadata": {},
     "output_type": "execute_result"
    }
   ],
   "source": [
    "# --- Create an array with 10,000 random numbers and show the first 10 items:\n",
    "sample_array_4 = np.random.randint(low = 1, high = 100, size = 10000)\n",
    "sample_array_4[:10]"
   ]
  },
  {
   "cell_type": "code",
   "execution_count": 26,
   "metadata": {},
   "outputs": [
    {
     "name": "stdout",
     "output_type": "stream",
     "text": [
      "612 µs ± 11.1 µs per loop (mean ± std. dev. of 7 runs, 1,000 loops each)\n",
      "7.42 µs ± 21.3 ns per loop (mean ± std. dev. of 7 runs, 100,000 loops each)\n"
     ]
    }
   ],
   "source": [
    "# --- Check the time (%timeit) it takes each method to run the same aggregation function.\n",
    "# --- Spoilers: NumPy is WAAAAAAY faster:\n",
    "%timeit sum(sample_array_4)\n",
    "%timeit np.sum(sample_array_4)"
   ]
  },
  {
   "cell_type": "code",
   "execution_count": 27,
   "metadata": {},
   "outputs": [
    {
     "name": "stdout",
     "output_type": "stream",
     "text": [
      "Mean:    50.086\n",
      "Median:  50.0\n",
      "Min:     1\n",
      "Max:     99\n",
      "Var:     815.134604\n",
      "Std Dev: 28.550562236145193\n"
     ]
    }
   ],
   "source": [
    "# --- Additional examples of NumPy aggregate methods:\n",
    "print(f\"Mean:    {np.mean(sample_array_4)}\")\n",
    "print(f\"Median:  {np.median(sample_array_4)}\")\n",
    "print(f\"Min:     {np.min(sample_array_4)}\")\n",
    "print(f\"Max:     {np.max(sample_array_4)}\")\n",
    "print(f\"Var:     {np.var(sample_array_4)}\")\n",
    "print(f\"Std Dev: {np.std(sample_array_4)}\")"
   ]
  },
  {
   "cell_type": "markdown",
   "metadata": {},
   "source": [
    "### Variance (np.var)"
   ]
  },
  {
   "cell_type": "markdown",
   "metadata": {},
   "source": [
    "Variance is the measure of the average degree to which each number is different to the mean.\n",
    "Higher variance = Wider range of numbers\n",
    "Lower variance = Lower range of numbers"
   ]
  },
  {
   "cell_type": "markdown",
   "metadata": {},
   "source": [
    "### Standard Deviation (np.std)"
   ]
  },
  {
   "cell_type": "markdown",
   "metadata": {},
   "source": [
    "Standard deviation is the measure of how spread out a group of numbers are from the mean.\n",
    "\n",
    "Another way to put it, the standard deviation is the square root of the variance."
   ]
  },
  {
   "cell_type": "code",
   "execution_count": 28,
   "metadata": {},
   "outputs": [
    {
     "name": "stdout",
     "output_type": "stream",
     "text": [
      "Std Dev:  28.550562236145193\n",
      "Sqrt Var: 28.550562236145193\n"
     ]
    }
   ],
   "source": [
    "# --- Just to show that the above is correct, show the std dev and the sqrt of var for\n",
    "# --- sample_array_5:\n",
    "print(f\"Std Dev:  {np.std(sample_array_4)}\")\n",
    "print(f\"Sqrt Var: {np.sqrt(np.var(sample_array_4))}\")"
   ]
  },
  {
   "cell_type": "markdown",
   "metadata": {},
   "source": [
    "### Reshape"
   ]
  },
  {
   "cell_type": "markdown",
   "metadata": {},
   "source": [
    "Reshape allows you to change the shape of an existing array to whatever size you need, as long at the data will fit into it."
   ]
  },
  {
   "cell_type": "code",
   "execution_count": 29,
   "metadata": {},
   "outputs": [],
   "source": [
    "# --- Try adding a 2-D array to a 3-D array:\n",
    "# --- This will not work due to their sizes being different on the z-axis.\n",
    "# --- This breaks broadcasting rules. This fix is to have the shapes match.\n",
    "# print(f\"Addition:    {sample_array_3 + sample_array_2}\")"
   ]
  },
  {
   "cell_type": "code",
   "execution_count": 30,
   "metadata": {},
   "outputs": [
    {
     "name": "stdout",
     "output_type": "stream",
     "text": [
      "Array 5 Shape: (2, 1, 3)\n",
      "\n",
      "Array 5 Reshaped from Array 2:\n",
      "[[[1.  2.  3.3]]\n",
      "\n",
      " [[4.  5.  6.5]]]\n",
      "\n",
      "\n",
      "Add Array 3 to Array 5:\n",
      "[[[ 2.   4.   6.3]\n",
      "  [ 5.   7.   9.3]\n",
      "  [ 8.  10.  12.3]]\n",
      "\n",
      " [[14.  16.  18.5]\n",
      "  [17.  19.  21.5]\n",
      "  [20.  22.  24.5]]]\n"
     ]
    }
   ],
   "source": [
    "# --- To get the array shapes to match, you can either recreate one to match the other\n",
    "# --- or use the reshape function. For example, reshape sample_array_2 as a new array:\n",
    "sample_array_5 = sample_array_2.reshape(2,1,3)\n",
    "print(f\"Array 5 Shape: {sample_array_5.shape}\\n\")\n",
    "print(f\"Array 5 Reshaped from Array 2:\\n{sample_array_5}\\n\\n\")\n",
    "\n",
    "# --- Let's try adding array 4 to array 3:\n",
    "print(f\"Add Array 3 to Array 5:\\n{sample_array_3 + sample_array_5}\")"
   ]
  },
  {
   "cell_type": "markdown",
   "metadata": {},
   "source": [
    "### Transpose"
   ]
  },
  {
   "cell_type": "markdown",
   "metadata": {},
   "source": [
    "The transpose method will simply reverse the shape of an array. For example, if an array has a shape of 2, 3, running transpose on it will change the shape to 3, 2."
   ]
  },
  {
   "cell_type": "code",
   "execution_count": 31,
   "metadata": {},
   "outputs": [
    {
     "name": "stdout",
     "output_type": "stream",
     "text": [
      "[[[ 1  2  3]\n",
      "  [ 4  5  6]\n",
      "  [ 7  8  9]]\n",
      "\n",
      " [[10 11 12]\n",
      "  [13 14 15]\n",
      "  [16 17 18]]]\n",
      "(2, 3, 3)\n",
      "[[[ 1 10]\n",
      "  [ 4 13]\n",
      "  [ 7 16]]\n",
      "\n",
      " [[ 2 11]\n",
      "  [ 5 14]\n",
      "  [ 8 17]]\n",
      "\n",
      " [[ 3 12]\n",
      "  [ 6 15]\n",
      "  [ 9 18]]]\n",
      "(3, 3, 2)\n"
     ]
    }
   ],
   "source": [
    "# --- Have a look at sample array 3:\n",
    "print(sample_array_3)\n",
    "print(sample_array_3.shape)\n",
    "\n",
    "# --- To transpose, you can use either transpose() or simply T.\n",
    "# --- The arrays shape will now be reversed:\n",
    "print(sample_array_3.transpose())\n",
    "print(sample_array_3.T.shape)"
   ]
  },
  {
   "cell_type": "markdown",
   "metadata": {},
   "source": [
    "## Element-Wise vs. Dot Product"
   ]
  },
  {
   "cell_type": "markdown",
   "metadata": {},
   "source": [
    "!['Element-Wise vs. Dot Product'](../../assets/images/notes/014-element-vs-dot.png)"
   ]
  },
  {
   "cell_type": "markdown",
   "metadata": {},
   "source": [
    "### Element Wise"
   ]
  },
  {
   "cell_type": "markdown",
   "metadata": {},
   "source": [
    "Element wise is basically taking two arrays (lets say two arrays with a size of 5, 3 each) and then matching the elements in each and then multiplying them together. If the arrays are different shapes, it may fail (broadcast error)."
   ]
  },
  {
   "cell_type": "code",
   "execution_count": 32,
   "metadata": {},
   "outputs": [
    {
     "name": "stdout",
     "output_type": "stream",
     "text": [
      "Element Array 1:\n",
      "[[6 5 2]\n",
      " [7 5 8]\n",
      " [4 5 7]\n",
      " [6 1 9]\n",
      " [1 7 6]]\n",
      "\n",
      "Element Array 2:\n",
      "[[2 9 5]\n",
      " [4 3 3]\n",
      " [9 1 1]\n",
      " [5 9 6]\n",
      " [9 7 5]]\n",
      "\n",
      "Element Multiplication:\n",
      "[[12 45 10]\n",
      " [28 15 24]\n",
      " [36  5  7]\n",
      " [30  9 54]\n",
      " [ 9 49 30]]\n"
     ]
    }
   ],
   "source": [
    "# --- For example, take two arrays of 5,3 and multiply them together:\n",
    "element_array_1 = np.random.randint(low = 1, high = 10, size = (5,3))\n",
    "print(f\"Element Array 1:\\n{element_array_1}\\n\")\n",
    "\n",
    "element_array_2 = np.random.randint(low = 1, high = 10, size = (5,3))\n",
    "print(f\"Element Array 2:\\n{element_array_2}\\n\")\n",
    "\n",
    "# --- Multiply the two arrays together:\n",
    "print(f\"Element Multiplication:\\n{np.multiply(element_array_1, element_array_2)}\")"
   ]
  },
  {
   "cell_type": "code",
   "execution_count": 33,
   "metadata": {},
   "outputs": [
    {
     "name": "stdout",
     "output_type": "stream",
     "text": [
      "Element Scalar Multiplication:\n",
      "[[30 25 10]\n",
      " [35 25 40]\n",
      " [20 25 35]\n",
      " [30  5 45]\n",
      " [ 5 35 30]]\n"
     ]
    }
   ],
   "source": [
    "# Multiply all elements in one array by a scalar (single value):\n",
    "print(f\"Element Scalar Multiplication:\\n{np.multiply(element_array_1, 5)}\")"
   ]
  },
  {
   "cell_type": "markdown",
   "metadata": {},
   "source": [
    "### Dot Product"
   ]
  },
  {
   "cell_type": "markdown",
   "metadata": {},
   "source": [
    "Dot product is a method to take two arrays and do a row x column multiplication and addition. It will multiply the values in a row by the values in a column, add them up and put the result in a new cell in a new matrix. \n",
    "\n",
    "Once it has done the first row by the first column and added the values up into the new cell, it will then do the first row by the second column and so on until all the columns are done. It will then move onto the next row and repeat.\n",
    "\n",
    "One rule, the the inside (columns) on the first matrix, must match the outside (rows) on the second matrix. For example:\n",
    "\n",
    "matrix a's size is 3 x (3) and matrix b's size is (3) x 2. Both the inner on a and outer on b equal 3.\n",
    "\n",
    "The result will be a matrix with a size th\n",
    "\n",
    "The below image will help explain it much better:"
   ]
  },
  {
   "cell_type": "markdown",
   "metadata": {},
   "source": [
    "![\"Dot Product Example\"](../../assets/images/notes/015-dot-product.png)"
   ]
  },
  {
   "cell_type": "code",
   "execution_count": 34,
   "metadata": {},
   "outputs": [
    {
     "name": "stdout",
     "output_type": "stream",
     "text": [
      "Dot Array 1:\n",
      "[[2 2 2]\n",
      " [8 8 5]\n",
      " [3 3 5]\n",
      " [4 8 6]\n",
      " [1 7 4]]\n",
      "\n",
      "Dot Array 2:\n",
      "[[7 6]\n",
      " [9 6]\n",
      " [8 7]]\n",
      "\n",
      "Dot Product:\n",
      "[[ 48  38]\n",
      " [168 131]\n",
      " [ 88  71]\n",
      " [148 114]\n",
      " [102  76]]\n"
     ]
    }
   ],
   "source": [
    "# --- For example, take two arrays, one that is 5, 3 & another that is 3, 2 and use dot:\n",
    "dot_array_1 = np.random.randint(low = 1, high = 10, size = (5,3))\n",
    "print(f\"Dot Array 1:\\n{dot_array_1}\\n\")\n",
    "\n",
    "dot_array_2 = np.random.randint(low = 1, high = 10, size = (3,2))\n",
    "print(f\"Dot Array 2:\\n{dot_array_2}\\n\")\n",
    "\n",
    "# Dot the two arrays together:\n",
    "print(f\"Dot Product:\\n{np.dot(a = dot_array_1, b = dot_array_2)}\")"
   ]
  },
  {
   "cell_type": "markdown",
   "metadata": {},
   "source": [
    "Some examples of valid sizes:\n",
    "- 5,(3) x (3),4 = 5x4\n",
    "- 5,(4) x (4),5 = 5x5\n",
    "- 5,(5) x (5),5 = 5x5\n",
    "- 7,(10) x (10),5 = 7x5\n",
    "\n",
    "As long as the numbers in the brackets match, that's what matters. The resulting matrix size will be the numbers not in the brackets."
   ]
  },
  {
   "cell_type": "markdown",
   "metadata": {},
   "source": [
    "### Example of Using NumPy and Pandas"
   ]
  },
  {
   "cell_type": "markdown",
   "metadata": {},
   "source": [
    "Use Case: Work out the line price total for sales of products for each day with the price in a different array / list."
   ]
  },
  {
   "cell_type": "code",
   "execution_count": 35,
   "metadata": {},
   "outputs": [],
   "source": [
    "np.random.seed(1)\n",
    "\n",
    "# --- Create a random ndarray of items sold:\n",
    "sales_qty = np.random.randint(30, size = (5,3))"
   ]
  },
  {
   "cell_type": "code",
   "execution_count": 36,
   "metadata": {},
   "outputs": [],
   "source": [
    "# --- Create a pandas dataframe from the sales_qty array:\n",
    "weekly_sales = pd.DataFrame(data = sales_qty,\n",
    "                            index = [\"Monday\", \"Tuesday\", \"Wednesday\", \"Thursday\", \"Friday\"],\n",
    "                            columns = [\"Bread\", \"Chicken\", \"Peppers\"])"
   ]
  },
  {
   "cell_type": "code",
   "execution_count": 37,
   "metadata": {},
   "outputs": [],
   "source": [
    "# --- Create an ndarray of prices and then make a pandas dataframe from it:\n",
    "prices = np.array([2, 8, 3])\n",
    "item_prices = pd.DataFrame(data = prices.reshape(1,3),\n",
    "                           index = [\"Price\"],\n",
    "                           columns = [\"Bread\", \"Chicken\", \"Peppers\"])"
   ]
  },
  {
   "cell_type": "code",
   "execution_count": 38,
   "metadata": {},
   "outputs": [],
   "source": [
    "# --- Calculate the weekly totals:\n",
    "item_totals = np.dot(a = sales_qty, \n",
    "                     b = prices)"
   ]
  },
  {
   "cell_type": "code",
   "execution_count": 39,
   "metadata": {},
   "outputs": [
    {
     "data": {
      "text/html": [
       "<div>\n",
       "<style scoped>\n",
       "    .dataframe tbody tr th:only-of-type {\n",
       "        vertical-align: middle;\n",
       "    }\n",
       "\n",
       "    .dataframe tbody tr th {\n",
       "        vertical-align: top;\n",
       "    }\n",
       "\n",
       "    .dataframe thead th {\n",
       "        text-align: right;\n",
       "    }\n",
       "</style>\n",
       "<table border=\"1\" class=\"dataframe\">\n",
       "  <thead>\n",
       "    <tr style=\"text-align: right;\">\n",
       "      <th></th>\n",
       "      <th>Bread</th>\n",
       "      <th>Chicken</th>\n",
       "      <th>Peppers</th>\n",
       "      <th>Day Total</th>\n",
       "    </tr>\n",
       "  </thead>\n",
       "  <tbody>\n",
       "    <tr>\n",
       "      <th>Monday</th>\n",
       "      <td>5</td>\n",
       "      <td>11</td>\n",
       "      <td>12</td>\n",
       "      <td>134</td>\n",
       "    </tr>\n",
       "    <tr>\n",
       "      <th>Tuesday</th>\n",
       "      <td>8</td>\n",
       "      <td>9</td>\n",
       "      <td>11</td>\n",
       "      <td>121</td>\n",
       "    </tr>\n",
       "    <tr>\n",
       "      <th>Wednesday</th>\n",
       "      <td>5</td>\n",
       "      <td>15</td>\n",
       "      <td>0</td>\n",
       "      <td>130</td>\n",
       "    </tr>\n",
       "    <tr>\n",
       "      <th>Thursday</th>\n",
       "      <td>16</td>\n",
       "      <td>1</td>\n",
       "      <td>12</td>\n",
       "      <td>76</td>\n",
       "    </tr>\n",
       "    <tr>\n",
       "      <th>Friday</th>\n",
       "      <td>7</td>\n",
       "      <td>13</td>\n",
       "      <td>28</td>\n",
       "      <td>202</td>\n",
       "    </tr>\n",
       "  </tbody>\n",
       "</table>\n",
       "</div>"
      ],
      "text/plain": [
       "           Bread  Chicken  Peppers  Day Total\n",
       "Monday         5       11       12        134\n",
       "Tuesday        8        9       11        121\n",
       "Wednesday      5       15        0        130\n",
       "Thursday      16        1       12         76\n",
       "Friday         7       13       28        202"
      ]
     },
     "execution_count": 39,
     "metadata": {},
     "output_type": "execute_result"
    }
   ],
   "source": [
    "# --- Insert the item_totals results to the weekly sales dataframe:\n",
    "weekly_sales.insert(value = item_totals, column = \"Day Total\", loc = 3)\n",
    "weekly_sales"
   ]
  },
  {
   "cell_type": "markdown",
   "metadata": {},
   "source": [
    "## Comparing and Sorting Arrays"
   ]
  },
  {
   "cell_type": "markdown",
   "metadata": {},
   "source": [
    "### Comparison Operators"
   ]
  },
  {
   "cell_type": "code",
   "execution_count": 44,
   "metadata": {},
   "outputs": [
    {
     "name": "stdout",
     "output_type": "stream",
     "text": [
      "[1 2 3]\n",
      "\n",
      "[[1.  2.  3.3]\n",
      " [4.  5.  6.5]]\n"
     ]
    }
   ],
   "source": [
    "print(f\"{sample_array_1}\\n\")\n",
    "print(f\"{sample_array_2}\")"
   ]
  },
  {
   "cell_type": "code",
   "execution_count": 54,
   "metadata": {},
   "outputs": [
    {
     "name": "stdout",
     "output_type": "stream",
     "text": [
      "[[False False False]\n",
      " [False False False]]\n",
      "\n",
      "[[False False  True]\n",
      " [ True  True  True]]\n",
      "\n",
      "[[ True  True  True]\n",
      " [ True  True  True]]\n",
      "\n",
      "[[ True  True False]\n",
      " [False False False]]\n",
      "\n",
      "True\n",
      "\n",
      "False\n",
      "\n"
     ]
    }
   ],
   "source": [
    "# --- Comparison operators work the same way with ndarrays as they normally do in Python. For example:\n",
    "print(f\"{sample_array_1 > sample_array_2}\\n\")\n",
    "print(f\"{sample_array_1 < sample_array_2}\\n\")\n",
    "print(f\"{sample_array_1 <= sample_array_2}\\n\")\n",
    "print(f\"{sample_array_1 >= sample_array_2}\\n\")\n",
    "print(f\"{sample_array_1 is sample_array_2}\\n\")\n",
    "\n",
    "# --- Compare a specific value in each ndarray (in this case 2 from sa1 and 2. from sa2):\n",
    "print(f\"{sample_array_1[1] == sample_array_2[0][1]}\\n\")"
   ]
  },
  {
   "cell_type": "markdown",
   "metadata": {},
   "source": [
    "### Sorting Arrays"
   ]
  },
  {
   "cell_type": "markdown",
   "metadata": {},
   "source": []
  },
  {
   "cell_type": "code",
   "execution_count": 64,
   "metadata": {},
   "outputs": [
    {
     "data": {
      "text/plain": [
       "array([[3, 6, 5, 1, 9],\n",
       "       [3, 4, 8, 1, 4],\n",
       "       [0, 3, 9, 2, 0]])"
      ]
     },
     "execution_count": 64,
     "metadata": {},
     "output_type": "execute_result"
    }
   ],
   "source": [
    "# --- Create a new array to work with:\n",
    "unsorted_array_1 = np.random.randint(10, size=(3, 5))\n",
    "unsorted_array_1"
   ]
  },
  {
   "cell_type": "code",
   "execution_count": 68,
   "metadata": {},
   "outputs": [
    {
     "data": {
      "text/plain": [
       "array([[0, 3, 5, 1, 0],\n",
       "       [3, 4, 8, 1, 4],\n",
       "       [3, 6, 9, 2, 9]])"
      ]
     },
     "execution_count": 68,
     "metadata": {},
     "output_type": "execute_result"
    }
   ],
   "source": [
    "# --- Sort the numbers so they are in order by columns:\n",
    "np.sort(unsorted_array_1, axis=0)"
   ]
  },
  {
   "cell_type": "code",
   "execution_count": 67,
   "metadata": {},
   "outputs": [
    {
     "data": {
      "text/plain": [
       "array([[1, 3, 5, 6, 9],\n",
       "       [1, 3, 4, 4, 8],\n",
       "       [0, 0, 2, 3, 9]])"
      ]
     },
     "execution_count": 67,
     "metadata": {},
     "output_type": "execute_result"
    }
   ],
   "source": [
    "# --- Sort the numbers so they are in order by each row:\n",
    "np.sort(unsorted_array_1, axis=1)"
   ]
  },
  {
   "cell_type": "code",
   "execution_count": 69,
   "metadata": {},
   "outputs": [
    {
     "data": {
      "text/plain": [
       "array([[3, 0, 2, 1, 4],\n",
       "       [3, 0, 1, 4, 2],\n",
       "       [0, 4, 3, 1, 2]])"
      ]
     },
     "execution_count": 69,
     "metadata": {},
     "output_type": "execute_result"
    }
   ],
   "source": [
    "# --- Sort an array by the value of the indexes (lowest to highest) and show the index numbers, not the values:\n",
    "np.argsort(unsorted_array_1)"
   ]
  },
  {
   "cell_type": "code",
   "execution_count": 75,
   "metadata": {},
   "outputs": [
    {
     "name": "stdout",
     "output_type": "stream",
     "text": [
      "Min Value Index: 10\n",
      "Max Value Index: 4\n"
     ]
    }
   ],
   "source": [
    "# --- Get the index of the lowest and highest values by the entire matrix:\n",
    "print(f\"Min Value Index: {np.argmin(unsorted_array_1)}\")\n",
    "print(f\"Max Value Index: {np.argmax(unsorted_array_1)}\")"
   ]
  },
  {
   "cell_type": "code",
   "execution_count": null,
   "metadata": {},
   "outputs": [
    {
     "name": "stdout",
     "output_type": "stream",
     "text": [
      "Min Value Index: [2 2 0 0 2]\n",
      "Max Value Index: [0 0 2 2 0]\n"
     ]
    }
   ],
   "source": [
    "# --- Get the index of the lowest and highest values by columns:\n",
    "print(f\"Min Value Index: {np.argmin(unsorted_array_1, axis = 0)}\")\n",
    "print(f\"Max Value Index: {np.argmax(unsorted_array_1, axis = 0)}\")"
   ]
  },
  {
   "cell_type": "code",
   "execution_count": 74,
   "metadata": {},
   "outputs": [
    {
     "name": "stdout",
     "output_type": "stream",
     "text": [
      "Min Value Index: [3 3 0]\n",
      "Max Value Index: [4 2 2]\n"
     ]
    }
   ],
   "source": [
    "# --- Get the index of the lowest and highest values by rows:\n",
    "print(f\"Min Value Index: {np.argmin(unsorted_array_1, axis = 1)}\")\n",
    "print(f\"Max Value Index: {np.argmax(unsorted_array_1, axis = 1)}\")"
   ]
  },
  {
   "cell_type": "markdown",
   "metadata": {},
   "source": [
    "## Converting Images To NumPy Arrays"
   ]
  },
  {
   "cell_type": "markdown",
   "metadata": {},
   "source": [
    "![\"Panda\"](../../assets/images/notes/017-panda.png)"
   ]
  },
  {
   "cell_type": "markdown",
   "metadata": {},
   "source": [
    "What will happen when the image is converted to an ndarray? Simply put, it will look at each pixel and determine the RGB value for each and store it as a number in the ndarray."
   ]
  },
  {
   "cell_type": "code",
   "execution_count": 83,
   "metadata": {},
   "outputs": [
    {
     "name": "stdout",
     "output_type": "stream",
     "text": [
      "Type: <class 'numpy.ndarray'>\n",
      "Size: 24465000\n",
      "Shape: (2330, 3500, 3)\n",
      "Dimensions: 3\n"
     ]
    }
   ],
   "source": [
    "# --- Turn an image into a NumPy array:\n",
    "panda = imread(\"../../assets/images/notes/017-panda.png\")\n",
    "\n",
    "# --- Let's have a look at some details about the array:\n",
    "print(f\"Type: {type(panda)}\\nSize: {panda.size}\\nShape: {panda.shape}\\nDimensions: {panda.ndim}\")"
   ]
  },
  {
   "cell_type": "code",
   "execution_count": 87,
   "metadata": {},
   "outputs": [
    {
     "data": {
      "text/plain": [
       "array([[[0.05490196, 0.10588235, 0.06666667],\n",
       "        [0.05490196, 0.10588235, 0.06666667],\n",
       "        [0.05490196, 0.10588235, 0.06666667],\n",
       "        ...,\n",
       "        [0.16470589, 0.12941177, 0.09411765],\n",
       "        [0.16470589, 0.12941177, 0.09411765],\n",
       "        [0.16470589, 0.12941177, 0.09411765]],\n",
       "\n",
       "       [[0.05490196, 0.10588235, 0.06666667],\n",
       "        [0.05490196, 0.10588235, 0.06666667],\n",
       "        [0.05490196, 0.10588235, 0.06666667],\n",
       "        ...,\n",
       "        [0.16470589, 0.12941177, 0.09411765],\n",
       "        [0.16470589, 0.12941177, 0.09411765],\n",
       "        [0.16470589, 0.12941177, 0.09411765]],\n",
       "\n",
       "       [[0.05490196, 0.10588235, 0.06666667],\n",
       "        [0.05490196, 0.10588235, 0.06666667],\n",
       "        [0.05490196, 0.10588235, 0.06666667],\n",
       "        ...,\n",
       "        [0.16470589, 0.12941177, 0.09411765],\n",
       "        [0.16470589, 0.12941177, 0.09411765],\n",
       "        [0.16470589, 0.12941177, 0.09411765]]], dtype=float32)"
      ]
     },
     "execution_count": 87,
     "metadata": {},
     "output_type": "execute_result"
    }
   ],
   "source": [
    "# --- Let's have a look at the first 3 entries:\n",
    "panda[:3]"
   ]
  },
  {
   "cell_type": "code",
   "execution_count": null,
   "metadata": {},
   "outputs": [],
   "source": []
  }
 ],
 "metadata": {
  "kernelspec": {
   "display_name": "Python 3.9.12 ('env': conda)",
   "language": "python",
   "name": "python3"
  },
  "language_info": {
   "codemirror_mode": {
    "name": "ipython",
    "version": 3
   },
   "file_extension": ".py",
   "mimetype": "text/x-python",
   "name": "python",
   "nbconvert_exporter": "python",
   "pygments_lexer": "ipython3",
   "version": "3.9.12"
  },
  "orig_nbformat": 4,
  "vscode": {
   "interpreter": {
    "hash": "637fa51919b018652a86a0becdcbdddfe930fc3f4d2ca5f2122642e5e63b50e4"
   }
  }
 },
 "nbformat": 4,
 "nbformat_minor": 2
}
