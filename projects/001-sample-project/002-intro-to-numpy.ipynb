{
 "cells": [
  {
   "cell_type": "markdown",
   "metadata": {},
   "source": [
    "# Introduction to NumPy"
   ]
  },
  {
   "cell_type": "markdown",
   "metadata": {},
   "source": [
    "## What is NumPy?"
   ]
  },
  {
   "cell_type": "markdown",
   "metadata": {},
   "source": [
    "NumPy is the fundamental package for scientific computing in Python. It is a Python library that provides a multidimensional array object, various derived objects (such as masked arrays and matrices), and an assortment of routines for fast operations on arrays, including mathematical, logical, shape manipulation, sorting, selecting, I/O, discrete Fourier transforms, basic linear algebra, basic statistical operations, random simulation and much more."
   ]
  },
  {
   "cell_type": "markdown",
   "metadata": {},
   "source": [
    "## Why NumPy?"
   ]
  },
  {
   "cell_type": "markdown",
   "metadata": {},
   "source": [
    "Put simply, it's fast at performing numeric functions. This is due to is being written in C.\n",
    "\n",
    "To speed up calculations, NumPy uses vectorisation via broadcasting. In English, it avoids using loops as that can slow down processing time, especially with large datasets.\n",
    "\n",
    "Finally, NumPy is also the backbone for other Python scientific packages. "
   ]
  },
  {
   "cell_type": "markdown",
   "metadata": {},
   "source": [
    "## NumPy DataTypes and Attributes"
   ]
  },
  {
   "cell_type": "code",
   "execution_count": 1,
   "metadata": {},
   "outputs": [],
   "source": [
    "# --- Import NumPy amd pandas (needed for later on)\n",
    "import numpy as np\n",
    "import pandas as pd"
   ]
  },
  {
   "cell_type": "code",
   "execution_count": 2,
   "metadata": {},
   "outputs": [
    {
     "data": {
      "text/plain": [
       "array([1, 2, 3])"
      ]
     },
     "execution_count": 2,
     "metadata": {},
     "output_type": "execute_result"
    }
   ],
   "source": [
    "# --- NumPy uses ndarray (n-dimensional array) for its main datatype.\n",
    "# --- Create a simple one-dimensional array, also called a vector.\n",
    "# --- Note: This has a shape of 1,3 (one row, three columns):\n",
    "sample_array_1 = np.array([1,2,3])\n",
    "sample_array_1"
   ]
  },
  {
   "cell_type": "code",
   "execution_count": 3,
   "metadata": {},
   "outputs": [
    {
     "data": {
      "text/plain": [
       "array([[1. , 2. , 3.3],\n",
       "       [4. , 5. , 6.5]])"
      ]
     },
     "execution_count": 3,
     "metadata": {},
     "output_type": "execute_result"
    }
   ],
   "source": [
    "# --- Create a two-dimensional array.\n",
    "# --- Note 1: This has a shape of 2,3 (two rows, three columns).\n",
    "# --- Note 2: As there is a float in the array, all the numbers will be converted to float:\n",
    "sample_array_2 = np.array([[1, 2.0, 3.3],\n",
    "                           [4, 5, 6.5]])\n",
    "sample_array_2"
   ]
  },
  {
   "cell_type": "code",
   "execution_count": 4,
   "metadata": {},
   "outputs": [
    {
     "data": {
      "text/plain": [
       "array([[[ 1,  2,  3],\n",
       "        [ 4,  5,  6],\n",
       "        [ 7,  8,  9]],\n",
       "\n",
       "       [[10, 11, 12],\n",
       "        [13, 14, 15],\n",
       "        [16, 17, 18]]])"
      ]
     },
     "execution_count": 4,
     "metadata": {},
     "output_type": "execute_result"
    }
   ],
   "source": [
    "# --- Create a multi-dimensional array.\n",
    "# --- Note: This has a shape of 2, 3,  (two matrix's deep, three rows and three columns per matrix):\n",
    "sample_array_3 = np.array([[[1, 2, 3],\n",
    "                           [4, 5, 6],\n",
    "                           [7, 8, 9]],\n",
    "                          [[10, 11, 12],\n",
    "                           [13, 14, 15],\n",
    "                           [16, 17, 18]]])\n",
    "sample_array_3"
   ]
  },
  {
   "cell_type": "code",
   "execution_count": 5,
   "metadata": {},
   "outputs": [
    {
     "name": "stdout",
     "output_type": "stream",
     "text": [
      "sample array 1. shape: (3,), size: 3\n",
      "sample array 2. shape: (2, 3), size: 6\n",
      "sample array 3. shape: (2, 3, 3), size: 18\n"
     ]
    }
   ],
   "source": [
    "# --- Show the shape and size of each sample array:\n",
    "print(f\"sample array 1. shape: {sample_array_1.shape}, size: {sample_array_1.size}\")\n",
    "print(f\"sample array 2. shape: {sample_array_2.shape}, size: {sample_array_2.size}\")\n",
    "print(f\"sample array 3. shape: {sample_array_3.shape}, size: {sample_array_3.size}\")"
   ]
  },
  {
   "cell_type": "code",
   "execution_count": 6,
   "metadata": {},
   "outputs": [
    {
     "data": {
      "text/plain": [
       "(1, 2, 3)"
      ]
     },
     "execution_count": 6,
     "metadata": {},
     "output_type": "execute_result"
    }
   ],
   "source": [
    "# --- Show the number of dimensions for each sample array:\n",
    "sample_array_1.ndim, sample_array_2.ndim, sample_array_3.ndim"
   ]
  },
  {
   "cell_type": "code",
   "execution_count": 7,
   "metadata": {},
   "outputs": [
    {
     "data": {
      "text/html": [
       "<div>\n",
       "<style scoped>\n",
       "    .dataframe tbody tr th:only-of-type {\n",
       "        vertical-align: middle;\n",
       "    }\n",
       "\n",
       "    .dataframe tbody tr th {\n",
       "        vertical-align: top;\n",
       "    }\n",
       "\n",
       "    .dataframe thead th {\n",
       "        text-align: right;\n",
       "    }\n",
       "</style>\n",
       "<table border=\"1\" class=\"dataframe\">\n",
       "  <thead>\n",
       "    <tr style=\"text-align: right;\">\n",
       "      <th></th>\n",
       "      <th>0</th>\n",
       "      <th>1</th>\n",
       "      <th>2</th>\n",
       "    </tr>\n",
       "  </thead>\n",
       "  <tbody>\n",
       "    <tr>\n",
       "      <th>0</th>\n",
       "      <td>1.0</td>\n",
       "      <td>2.0</td>\n",
       "      <td>3.3</td>\n",
       "    </tr>\n",
       "    <tr>\n",
       "      <th>1</th>\n",
       "      <td>4.0</td>\n",
       "      <td>5.0</td>\n",
       "      <td>6.5</td>\n",
       "    </tr>\n",
       "  </tbody>\n",
       "</table>\n",
       "</div>"
      ],
      "text/plain": [
       "     0    1    2\n",
       "0  1.0  2.0  3.3\n",
       "1  4.0  5.0  6.5"
      ]
     },
     "execution_count": 7,
     "metadata": {},
     "output_type": "execute_result"
    }
   ],
   "source": [
    "# --- Create a pandas dataframe from an ndarray:\n",
    "sample_df_2 = pd.DataFrame(sample_array_2)\n",
    "sample_df_2\n"
   ]
  },
  {
   "cell_type": "code",
   "execution_count": null,
   "metadata": {},
   "outputs": [],
   "source": []
  },
  {
   "cell_type": "markdown",
   "metadata": {},
   "source": [
    "## Creating NumPy Arrays"
   ]
  },
  {
   "cell_type": "code",
   "execution_count": 8,
   "metadata": {},
   "outputs": [
    {
     "data": {
      "text/plain": [
       "array([[1., 1., 1.],\n",
       "       [1., 1., 1.]])"
      ]
     },
     "execution_count": 8,
     "metadata": {},
     "output_type": "execute_result"
    }
   ],
   "source": [
    "# --- Create a 2 x 3 ndarray with values of 1 using the ones function.\n",
    "# --- Note: The default datatype for each 1 is float64 so they will be 1. instead.\n",
    "# --- You can change that with dtype = int:\n",
    "ones = np.ones(shape=(2, 3))\n",
    "ones"
   ]
  },
  {
   "cell_type": "code",
   "execution_count": 10,
   "metadata": {},
   "outputs": [
    {
     "data": {
      "text/plain": [
       "array([[0., 0., 0.],\n",
       "       [0., 0., 0.]])"
      ]
     },
     "execution_count": 10,
     "metadata": {},
     "output_type": "execute_result"
    }
   ],
   "source": [
    "# --- Create a 2 x 3 ndarray with values of 1 using the zeros function.\n",
    "# --- Note: The default datatype for each 0 is float64 so they will be 0. instead.\n",
    "# --- You can change that with dtype = int:\n",
    "zeros = np.zeros(shape=(2, 3))\n",
    "zeros"
   ]
  },
  {
   "cell_type": "code",
   "execution_count": 12,
   "metadata": {},
   "outputs": [
    {
     "data": {
      "text/plain": [
       "array([0, 2, 4, 6, 8])"
      ]
     },
     "execution_count": 12,
     "metadata": {},
     "output_type": "execute_result"
    }
   ],
   "source": [
    "# --- Create an ndarray with a range starting at 0, upto 10 and increment in 2:\n",
    "range_array = np.arange(0, 10, 2)\n",
    "range_array"
   ]
  },
  {
   "cell_type": "code",
   "execution_count": 14,
   "metadata": {},
   "outputs": [
    {
     "name": "stdout",
     "output_type": "stream",
     "text": [
      "[[ 8 85 69 68 49]\n",
      " [83 93 35 23 70]\n",
      " [29 96 45 57 71]]\n",
      "\n",
      "random_array size: 15\n",
      "random_array shape: (3, 5)\n"
     ]
    }
   ],
   "source": [
    "# --- Create an ndarray with 3 rows and five random integers per row:\n",
    "random_array = np.random.randint(low = 0, high = 100, size = (3, 5))\n",
    "print(random_array)\n",
    "print(f\"\\nrandom_array size: {random_array.size}\\nrandom_array shape: {random_array.shape}\")\n"
   ]
  },
  {
   "cell_type": "markdown",
   "metadata": {},
   "source": [
    "Note: NumPy random numbers are Pseudo-random numbers. In short, it's random to us but not to a computer.\n",
    "\n",
    "You can set the random number generators in NumPy to have a base starting point so that they start at the same point using the `np.random.seed()` function.\n",
    "\n",
    "By default, the random.seed() is set to None. This will mean that each time a random number generator function is called, the seed will have a random value that will then generate a random number.\n",
    "\n",
    "If you set a value in the seed function, each time a random number generator is run, it will generate the same numbers as before as the starting point will always be the same:"
   ]
  },
  {
   "cell_type": "code",
   "execution_count": 15,
   "metadata": {},
   "outputs": [
    {
     "name": "stdout",
     "output_type": "stream",
     "text": [
      "None\n"
     ]
    }
   ],
   "source": [
    "print(np.random.seed())"
   ]
  },
  {
   "cell_type": "code",
   "execution_count": 43,
   "metadata": {},
   "outputs": [
    {
     "name": "stdout",
     "output_type": "stream",
     "text": [
      "random_array_seed_1\n",
      "[[2 6 5 6 4]\n",
      " [1 5 0 9 2]\n",
      " [4 0 9 7 9]]\n",
      "\n",
      "random_array_seed_2\n",
      "[[5 8 9 5 0]\n",
      " [0 1 7 6 9]\n",
      " [2 4 5 2 4]]\n"
     ]
    }
   ],
   "source": [
    "# --- Set the seed value to None and generate a random array of ints.\n",
    "np.random.seed(seed=None)\n",
    "random_array_seed_1 = np.random.randint(0, 10, size=(3, 5))\n",
    "print(f\"random_array_seed_1\\n{random_array_seed_1}\")\n",
    "\n",
    "# --- Set the seed value to 1 and generate an array wind random ints:\n",
    "np.random.seed(seed=1)\n",
    "random_array_seed_2 = np.random.randint(0, 10, size=(3, 5))\n",
    "print(f\"\\nrandom_array_seed_2\\n{random_array_seed_2}\")\n",
    "\n",
    "# --- The result should be this each time:\n",
    "# [[5 8 9 5 0]\n",
    "# [0 1 7 6 9]\n",
    "# [2 4 5 2 4]]\n",
    "\n",
    "# --- Note: random.seed() only applies to the cell in Jupyter notebooks that it was run in."
   ]
  }
 ],
 "metadata": {
  "kernelspec": {
   "display_name": "Python 3.9.12 ('env': conda)",
   "language": "python",
   "name": "python3"
  },
  "language_info": {
   "codemirror_mode": {
    "name": "ipython",
    "version": 3
   },
   "file_extension": ".py",
   "mimetype": "text/x-python",
   "name": "python",
   "nbconvert_exporter": "python",
   "pygments_lexer": "ipython3",
   "version": "3.9.12"
  },
  "orig_nbformat": 4,
  "vscode": {
   "interpreter": {
    "hash": "637fa51919b018652a86a0becdcbdddfe930fc3f4d2ca5f2122642e5e63b50e4"
   }
  }
 },
 "nbformat": 4,
 "nbformat_minor": 2
}
