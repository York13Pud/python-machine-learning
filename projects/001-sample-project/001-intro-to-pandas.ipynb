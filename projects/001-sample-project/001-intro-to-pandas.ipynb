{
 "cells": [
  {
   "cell_type": "markdown",
   "metadata": {},
   "source": [
    "# Introduction To Pandas"
   ]
  },
  {
   "cell_type": "markdown",
   "metadata": {},
   "source": [
    "## What is Panadas?\n",
    "\n",
    "Pandas is used in DataScience to aid with the visualisation of data but more importantly, modifying and cleaning the data for use with other tools, such as numpy."
   ]
  },
  {
   "cell_type": "code",
   "execution_count": 2,
   "metadata": {},
   "outputs": [],
   "source": [
    "# --- Inport pandas\n",
    "import pandas as pd"
   ]
  },
  {
   "cell_type": "markdown",
   "metadata": {},
   "source": [
    "## DataTypes\n",
    "\n",
    "There are two main datatypes with Pandas:\n",
    "- Series: One-dimentional (basically a list/array of single values)\n",
    "- DataFrame: Two-dimention (rows and columns)"
   ]
  },
  {
   "cell_type": "code",
   "execution_count": 7,
   "metadata": {},
   "outputs": [
    {
     "name": "stdout",
     "output_type": "stream",
     "text": [
      "0       BMW\n",
      "1    Toyota\n",
      "2     Honda\n",
      "dtype: object\n"
     ]
    }
   ],
   "source": [
    "# --- Create a pandas series with a list of car brands:\n",
    "series = pd.Series([\"BMW\", \"Toyota\", \"Honda\"])\n",
    "\n",
    "# --- Show the contents of series:\n",
    "print(series)"
   ]
  },
  {
   "cell_type": "code",
   "execution_count": 8,
   "metadata": {},
   "outputs": [
    {
     "name": "stdout",
     "output_type": "stream",
     "text": [
      "0      Red\n",
      "1     Blue\n",
      "2    White\n",
      "dtype: object\n"
     ]
    }
   ],
   "source": [
    "# --- Create another series of colours:\n",
    "colours = pd.Series([\"Red\", \"Blue\", \"White\"])\n",
    "\n",
    "# --- Show the contents of colours:\n",
    "print(colours)"
   ]
  },
  {
   "cell_type": "code",
   "execution_count": 9,
   "metadata": {},
   "outputs": [
    {
     "name": "stdout",
     "output_type": "stream",
     "text": [
      "      car colour\n",
      "0     BMW    Red\n",
      "1  Toyota   Blue\n",
      "2   Honda  White\n"
     ]
    }
   ],
   "source": [
    "# --- Create a dataframe that uses the two series created previously:\n",
    "car_data = pd.DataFrame({\"car\": series, \"colour\": colours})\n",
    "print(car_data)"
   ]
  },
  {
   "cell_type": "markdown",
   "metadata": {},
   "source": [
    "## Importing Data\n",
    "\n",
    "Rather than creating a DF from a number of series', you can import data from files, such as a CSV file and create a DF from that files contents."
   ]
  },
  {
   "cell_type": "code",
   "execution_count": 11,
   "metadata": {},
   "outputs": [
    {
     "name": "stdout",
     "output_type": "stream",
     "text": [
      "     Make Colour  Odometer (KM)  Doors       Price\n",
      "0  Toyota  White         150043      4   $4,000.00\n",
      "1   Honda    Red          87899      4   $5,000.00\n",
      "2  Toyota   Blue          32549      3   $7,000.00\n",
      "3     BMW  Black          11179      5  $22,000.00\n",
      "4  Nissan  White         213095      4   $3,500.00\n",
      "5  Toyota  Green          99213      4   $4,500.00\n",
      "6   Honda   Blue          45698      4   $7,500.00\n",
      "7   Honda   Blue          54738      4   $7,000.00\n",
      "8  Toyota  White          60000      4   $6,250.00\n",
      "9  Nissan  White          31600      4   $9,700.00\n"
     ]
    }
   ],
   "source": [
    "# --- Read a CSV file, create a DF and display the values:\n",
    "car_sales = pd.read_csv(\"./car-sales.csv\")\n",
    "print(car_sales)"
   ]
  },
  {
   "cell_type": "code",
   "execution_count": 13,
   "metadata": {},
   "outputs": [],
   "source": [
    "# --- Export a DF to a CSV file (index=False will remove the index column):\n",
    "car_sales.to_csv(\"./car-sales-export.csv\", index=False)"
   ]
  },
  {
   "cell_type": "code",
   "execution_count": null,
   "metadata": {},
   "outputs": [],
   "source": []
  }
 ],
 "metadata": {
  "kernelspec": {
   "display_name": "Python 3.9.12 ('env': conda)",
   "language": "python",
   "name": "python3"
  },
  "language_info": {
   "codemirror_mode": {
    "name": "ipython",
    "version": 3
   },
   "file_extension": ".py",
   "mimetype": "text/x-python",
   "name": "python",
   "nbconvert_exporter": "python",
   "pygments_lexer": "ipython3",
   "version": "3.9.12"
  },
  "orig_nbformat": 4,
  "vscode": {
   "interpreter": {
    "hash": "637fa51919b018652a86a0becdcbdddfe930fc3f4d2ca5f2122642e5e63b50e4"
   }
  }
 },
 "nbformat": 4,
 "nbformat_minor": 2
}
